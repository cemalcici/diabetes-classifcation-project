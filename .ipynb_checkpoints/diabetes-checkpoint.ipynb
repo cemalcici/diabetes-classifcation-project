{
 "cells": [
  {
   "cell_type": "code",
   "execution_count": 1,
   "metadata": {},
   "outputs": [],
   "source": [
    "# Gerekli Kütüphaneler\n",
    "import pandas as pd\n",
    "import numpy as np\n",
    "import seaborn as sns\n",
    "import matplotlib.pyplot as plt\n",
    "from sklearn.tree import DecisionTreeClassifier\n",
    "from sklearn.tree import export_graphviz, export_text\n",
    "from sklearn.preprocessing import MinMaxScaler\n",
    "import missingno as msno\n",
    "import pickle\n",
    "import pydotplus\n",
    "from skompiler import skompile\n",
    "import joblib\n",
    "import warnings\n",
    "from sklearn.metrics import *\n",
    "from sklearn.model_selection import *"
   ]
  },
  {
   "cell_type": "code",
   "execution_count": 2,
   "metadata": {},
   "outputs": [],
   "source": [
    "# Pandas Ayarları\n",
    "pd.pandas.set_option('display.max_columns', None)\n",
    "pd.set_option('display.float_format', lambda x: '%.3f' % x)\n",
    "pd.set_option('display.width', 170)\n",
    "warnings.filterwarnings('ignore')"
   ]
  },
  {
   "cell_type": "code",
   "execution_count": 3,
   "metadata": {},
   "outputs": [],
   "source": [
    "# Kendi Oluşturduğum Kütüphaneler\n",
    "from dsmlbc_eda import DsmlbcEDA # EDA modülü\n",
    "from data_prep import * # Veri ön işleme fonksiyonlarının oluşturulduğu modül"
   ]
  },
  {
   "cell_type": "code",
   "execution_count": 4,
   "metadata": {},
   "outputs": [],
   "source": [
    "def load_data():\n",
    "    \"\"\"\n",
    "    Diabetes veri setini döndürür.\n",
    "    \"\"\"\n",
    "    return pd.read_csv(\"diabetes.csv\")"
   ]
  },
  {
   "cell_type": "code",
   "execution_count": 5,
   "metadata": {},
   "outputs": [
    {
     "data": {
      "text/html": [
       "<div>\n",
       "<style scoped>\n",
       "    .dataframe tbody tr th:only-of-type {\n",
       "        vertical-align: middle;\n",
       "    }\n",
       "\n",
       "    .dataframe tbody tr th {\n",
       "        vertical-align: top;\n",
       "    }\n",
       "\n",
       "    .dataframe thead th {\n",
       "        text-align: right;\n",
       "    }\n",
       "</style>\n",
       "<table border=\"1\" class=\"dataframe\">\n",
       "  <thead>\n",
       "    <tr style=\"text-align: right;\">\n",
       "      <th></th>\n",
       "      <th>Pregnancies</th>\n",
       "      <th>Glucose</th>\n",
       "      <th>BloodPressure</th>\n",
       "      <th>SkinThickness</th>\n",
       "      <th>Insulin</th>\n",
       "      <th>BMI</th>\n",
       "      <th>DiabetesPedigreeFunction</th>\n",
       "      <th>Age</th>\n",
       "      <th>Outcome</th>\n",
       "    </tr>\n",
       "  </thead>\n",
       "  <tbody>\n",
       "    <tr>\n",
       "      <th>0</th>\n",
       "      <td>6</td>\n",
       "      <td>148</td>\n",
       "      <td>72</td>\n",
       "      <td>35</td>\n",
       "      <td>0</td>\n",
       "      <td>33.600</td>\n",
       "      <td>0.627</td>\n",
       "      <td>50</td>\n",
       "      <td>1</td>\n",
       "    </tr>\n",
       "    <tr>\n",
       "      <th>1</th>\n",
       "      <td>1</td>\n",
       "      <td>85</td>\n",
       "      <td>66</td>\n",
       "      <td>29</td>\n",
       "      <td>0</td>\n",
       "      <td>26.600</td>\n",
       "      <td>0.351</td>\n",
       "      <td>31</td>\n",
       "      <td>0</td>\n",
       "    </tr>\n",
       "    <tr>\n",
       "      <th>2</th>\n",
       "      <td>8</td>\n",
       "      <td>183</td>\n",
       "      <td>64</td>\n",
       "      <td>0</td>\n",
       "      <td>0</td>\n",
       "      <td>23.300</td>\n",
       "      <td>0.672</td>\n",
       "      <td>32</td>\n",
       "      <td>1</td>\n",
       "    </tr>\n",
       "    <tr>\n",
       "      <th>3</th>\n",
       "      <td>1</td>\n",
       "      <td>89</td>\n",
       "      <td>66</td>\n",
       "      <td>23</td>\n",
       "      <td>94</td>\n",
       "      <td>28.100</td>\n",
       "      <td>0.167</td>\n",
       "      <td>21</td>\n",
       "      <td>0</td>\n",
       "    </tr>\n",
       "    <tr>\n",
       "      <th>4</th>\n",
       "      <td>0</td>\n",
       "      <td>137</td>\n",
       "      <td>40</td>\n",
       "      <td>35</td>\n",
       "      <td>168</td>\n",
       "      <td>43.100</td>\n",
       "      <td>2.288</td>\n",
       "      <td>33</td>\n",
       "      <td>1</td>\n",
       "    </tr>\n",
       "  </tbody>\n",
       "</table>\n",
       "</div>"
      ],
      "text/plain": [
       "   Pregnancies  Glucose  BloodPressure  SkinThickness  Insulin    BMI  DiabetesPedigreeFunction  Age  Outcome\n",
       "0            6      148             72             35        0 33.600                     0.627   50        1\n",
       "1            1       85             66             29        0 26.600                     0.351   31        0\n",
       "2            8      183             64              0        0 23.300                     0.672   32        1\n",
       "3            1       89             66             23       94 28.100                     0.167   21        0\n",
       "4            0      137             40             35      168 43.100                     2.288   33        1"
      ]
     },
     "execution_count": 5,
     "metadata": {},
     "output_type": "execute_result"
    }
   ],
   "source": [
    "# Veri Seti Yüklendi\n",
    "df = load_data()\n",
    "df.head()"
   ]
  },
  {
   "cell_type": "code",
   "execution_count": 6,
   "metadata": {},
   "outputs": [],
   "source": [
    "# 0 olan değerler aslında boş değerler, onları dönüştürelim\n",
    "def col_nan_assigment(df):\n",
    "    \"\"\"\n",
    "    Thx Nehir Günce Daşçı\n",
    "    \"\"\"\n",
    "    for col in df.columns:\n",
    "        for row in range(len(df)):\n",
    "            if col != \"Outcome\":\n",
    "                if df.loc[row, col] == 0:\n",
    "                    if df.loc[row, \"Outcome\"] == 1:\n",
    "                        df.loc[row, col] = df.loc[df[\"Outcome\"] == 1, col].median()\n",
    "                    else:\n",
    "                        df.loc[row, col] = df.loc[df[\"Outcome\"] == 0, col].median()\n",
    "\n",
    "col_nan_assigment(df)"
   ]
  },
  {
   "cell_type": "code",
   "execution_count": 7,
   "metadata": {},
   "outputs": [],
   "source": [
    "# Diabetes veri seti için DsmlbcEDA nesnesi oluşturuldu.\n",
    "eda = DsmlbcEDA(dataframe=df, target_col=\"Outcome\")"
   ]
  },
  {
   "cell_type": "code",
   "execution_count": 8,
   "metadata": {},
   "outputs": [
    {
     "name": "stdout",
     "output_type": "stream",
     "text": [
      "First 5 Observations:\n",
      "   Pregnancies  Glucose  BloodPressure  SkinThickness  Insulin    BMI  DiabetesPedigreeFunction  Age  Outcome\n",
      "0            6      148             72             35    0.000 33.600                     0.627   50        1\n",
      "1            1       85             66             29   39.000 26.600                     0.351   31        0\n",
      "2            8      183             64             27    0.000 23.300                     0.672   32        1\n",
      "3            1       89             66             23   94.000 28.100                     0.167   21        0\n",
      "4            4      137             40             35  168.000 43.100                     2.288   33        1\n",
      "\n",
      "\n",
      "Last 5 Observations:\n",
      "     Pregnancies  Glucose  BloodPressure  SkinThickness  Insulin    BMI  DiabetesPedigreeFunction  Age  Outcome\n",
      "763           10      101             76             48  180.000 32.900                     0.171   63        0\n",
      "764            2      122             70             27   40.000 36.800                     0.340   27        0\n",
      "765            5      121             72             23  112.000 26.200                     0.245   30        0\n",
      "766            1      126             60             27    0.000 30.100                     0.349   47        1\n",
      "767            1       93             70             31   40.000 30.400                     0.315   23        0\n",
      "\n",
      "\n",
      "Dataset dimension info: (768, 9)\n",
      "768 observations\n",
      "9 variables\n",
      "\n",
      "\n",
      "Dataset Metadata Info:\n",
      "\n",
      "<class 'pandas.core.frame.DataFrame'>\n",
      "RangeIndex: 768 entries, 0 to 767\n",
      "Data columns (total 9 columns):\n",
      " #   Column                    Non-Null Count  Dtype  \n",
      "---  ------                    --------------  -----  \n",
      " 0   Pregnancies               768 non-null    int64  \n",
      " 1   Glucose                   768 non-null    int64  \n",
      " 2   BloodPressure             768 non-null    int64  \n",
      " 3   SkinThickness             768 non-null    int64  \n",
      " 4   Insulin                   768 non-null    float64\n",
      " 5   BMI                       768 non-null    float64\n",
      " 6   DiabetesPedigreeFunction  768 non-null    float64\n",
      " 7   Age                       768 non-null    int64  \n",
      " 8   Outcome                   768 non-null    int64  \n",
      "dtypes: float64(3), int64(6)\n",
      "memory usage: 54.1 KB\n",
      "\n",
      "Dataset column list:\n",
      "Pregnancies, Glucose, BloodPressure, SkinThickness, Insulin, BMI, DiabetesPedigreeFunction, Age, Outcome, \n",
      "Dataset index info:\n",
      "RangeIndex(start=0, stop=768, step=1)\n",
      "\n",
      "Descriptive Statistics\n",
      "\n",
      "                           count    mean     std    min    25%     50%     75%     max\n",
      "Pregnancies              768.000   4.233   3.064  1.000  2.000   3.000   6.000  17.000\n",
      "Glucose                  768.000 121.677  30.464 44.000 99.750 117.000 140.250 199.000\n",
      "BloodPressure            768.000  72.379  12.104 24.000 64.000  72.000  80.000 122.000\n",
      "SkinThickness            768.000  27.431   9.321  7.000 21.000  27.000  32.000  99.000\n",
      "Insulin                  768.000  92.089 107.973  0.000 40.000  40.000 127.250 846.000\n",
      "BMI                      768.000  32.434   6.881 18.200 27.500  32.050  36.600  67.100\n",
      "DiabetesPedigreeFunction 768.000   0.472   0.331  0.078  0.244   0.372   0.626   2.420\n",
      "Age                      768.000  33.241  11.760 21.000 24.000  29.000  41.000  81.000\n",
      "Outcome                  768.000   0.349   0.477  0.000  0.000   0.000   1.000   1.000\n",
      "\n",
      "Are there any null values in the data set?: False\n"
     ]
    }
   ],
   "source": [
    "# Veri seti hakkında temel incelemeler yapıldı.\n",
    "eda.big_picture_summary()"
   ]
  },
  {
   "cell_type": "code",
   "execution_count": 9,
   "metadata": {},
   "outputs": [],
   "source": [
    "# Numerik değişkenleri belirleme\n",
    "num_cols = eda.final_numerical_cols()"
   ]
  },
  {
   "cell_type": "code",
   "execution_count": 10,
   "metadata": {},
   "outputs": [
    {
     "name": "stdout",
     "output_type": "stream",
     "text": [
      "                           count    mean     std    min     1%     5%    10%    25%     50%     75%     90%     95%     99%     max\n",
      "DiabetesPedigreeFunction 768.000   0.472   0.331  0.078  0.095  0.140  0.165  0.244   0.372   0.626   0.879   1.133   1.698   2.420\n",
      "SkinThickness            768.000  27.431   9.321  7.000 10.000 14.350 18.000 21.000  27.000  32.000  40.000  44.000  51.330  99.000\n",
      "Age                      768.000  33.241  11.760 21.000 21.000 21.000 22.000 24.000  29.000  41.000  51.000  58.000  67.000  81.000\n",
      "BloodPressure            768.000  72.379  12.104 24.000 44.000 52.000 58.000 64.000  72.000  80.000  88.000  90.000 106.000 122.000\n",
      "Insulin                  768.000  92.089 107.973  0.000  0.000  0.000  0.000 40.000  40.000 127.250 210.000 293.000 519.900 846.000\n",
      "Pregnancies              768.000   4.233   3.064  1.000  1.000  1.000  1.000  2.000   3.000   6.000   9.000  10.000  13.000  17.000\n",
      "Glucose                  768.000 121.677  30.464 44.000 67.670 80.000 86.700 99.750 117.000 140.250 167.000 181.000 196.000 199.000\n",
      "BMI                      768.000  32.434   6.881 18.200 19.500 22.235 24.000 27.500  32.050  36.600  41.500  44.395  50.759  67.100\n",
      "\n"
     ]
    },
    {
     "data": {
      "image/png": "[encoded data removed]",
      "text/plain": [
       "<Figure size 432x288 with 1 Axes>"
      ]
     },
     "metadata": {
      "needs_background": "light"
     },
     "output_type": "display_data"
    },
    {
     "data": {
      "image/png": "[encoded data removed]",
      "text/plain": [
       "<Figure size 432x288 with 1 Axes>"
      ]
     },
     "metadata": {
      "needs_background": "light"
     },
     "output_type": "display_data"
    },
    {
     "data": {
      "image/png": "[encoded data removed]",
      "text/plain": [
       "<Figure size 432x288 with 1 Axes>"
      ]
     },
     "metadata": {
      "needs_background": "light"
     },
     "output_type": "display_data"
    },
    {
     "data": {
      "image/png": "[encoded data removed]",
      "text/plain": [
       "<Figure size 432x288 with 1 Axes>"
      ]
     },
     "metadata": {
      "needs_background": "light"
     },
     "output_type": "display_data"
    },
    {
     "data": {
      "image/png": "[encoded data removed]",
      "text/plain": [
       "<Figure size 432x288 with 1 Axes>"
      ]
     },
     "metadata": {
      "needs_background": "light"
     },
     "output_type": "display_data"
    },
    {
     "data": {
      "image/png": "[encoded data removed]",
      "text/plain": [
       "<Figure size 432x288 with 1 Axes>"
      ]
     },
     "metadata": {
      "needs_background": "light"
     },
     "output_type": "display_data"
    },
    {
     "data": {
      "image/png": "[encoded data removed]",
      "text/plain": [
       "<Figure size 432x288 with 1 Axes>"
      ]
     },
     "metadata": {
      "needs_background": "light"
     },
     "output_type": "display_data"
    },
    {
     "data": {
      "image/png": "[encoded data removed]",
      "text/plain": [
       "<Figure size 432x288 with 1 Axes>"
      ]
     },
     "metadata": {
      "needs_background": "light"
     },
     "output_type": "display_data"
    },
    {
     "data": {
      "image/png": "[encoded data removed]",
      "text/plain": [
       "<Figure size 432x288 with 1 Axes>"
      ]
     },
     "metadata": {
      "needs_background": "light"
     },
     "output_type": "display_data"
    },
    {
     "data": {
      "image/png": "[encoded data removed]",
      "text/plain": [
       "<Figure size 432x288 with 1 Axes>"
      ]
     },
     "metadata": {
      "needs_background": "light"
     },
     "output_type": "display_data"
    },
    {
     "data": {
      "image/png": "[encoded data removed]",
      "text/plain": [
       "<Figure size 432x288 with 1 Axes>"
      ]
     },
     "metadata": {
      "needs_background": "light"
     },
     "output_type": "display_data"
    },
    {
     "data": {
      "image/png": "[encoded data removed]",
      "text/plain": [
       "<Figure size 432x288 with 1 Axes>"
      ]
     },
     "metadata": {
      "needs_background": "light"
     },
     "output_type": "display_data"
    },
    {
     "data": {
      "image/png": "[encoded data removed]",
      "text/plain": [
       "<Figure size 432x288 with 1 Axes>"
      ]
     },
     "metadata": {
      "needs_background": "light"
     },
     "output_type": "display_data"
    },
    {
     "data": {
      "image/png": "[encoded data removed]",
      "text/plain": [
       "<Figure size 432x288 with 1 Axes>"
      ]
     },
     "metadata": {
      "needs_background": "light"
     },
     "output_type": "display_data"
    },
    {
     "data": {
      "image/png": "[encoded data removed]",
      "text/plain": [
       "<Figure size 432x288 with 1 Axes>"
      ]
     },
     "metadata": {
      "needs_background": "light"
     },
     "output_type": "display_data"
    },
    {
     "data": {
      "image/png": "[encoded data removed]",
      "text/plain": [
       "<Figure size 432x288 with 1 Axes>"
      ]
     },
     "metadata": {
      "needs_background": "light"
     },
     "output_type": "display_data"
    },
    {
     "name": "stdout",
     "output_type": "stream",
     "text": [
      "8 variables have been plotted.\n"
     ]
    }
   ],
   "source": [
    "eda.numerical_summary(desc=\"detail\",\n",
    "                      plot_outliers=True,\n",
    "                      plotting=True)"
   ]
  },
  {
   "cell_type": "code",
   "execution_count": 11,
   "metadata": {},
   "outputs": [
    {
     "name": "stdout",
     "output_type": "stream",
     "text": [
      "         DiabetesPedigreeFunction\n",
      "Outcome                          \n",
      "0                           0.430\n",
      "1                           0.550\n",
      "\n",
      "\n",
      "         SkinThickness\n",
      "Outcome               \n",
      "0               25.502\n",
      "1               31.030\n",
      "\n",
      "\n",
      "           Age\n",
      "Outcome       \n",
      "0       31.190\n",
      "1       37.067\n",
      "\n",
      "\n",
      "         BloodPressure\n",
      "Outcome               \n",
      "0               70.844\n",
      "1               75.243\n",
      "\n",
      "\n",
      "         Insulin\n",
      "Outcome         \n",
      "0         87.668\n",
      "1        100.336\n",
      "\n",
      "\n",
      "         Pregnancies\n",
      "Outcome             \n",
      "0              3.590\n",
      "1              5.433\n",
      "\n",
      "\n",
      "         Glucose\n",
      "Outcome         \n",
      "0        110.622\n",
      "1        142.302\n",
      "\n",
      "\n",
      "           BMI\n",
      "Outcome       \n",
      "0       30.846\n",
      "1       35.398\n",
      "\n",
      "\n"
     ]
    }
   ],
   "source": [
    "# Numerik değişkenlere göre target analizi\n",
    "eda.target_summary_with_num()"
   ]
  },
  {
   "cell_type": "code",
   "execution_count": 12,
   "metadata": {},
   "outputs": [
    {
     "name": "stdout",
     "output_type": "stream",
     "text": [
      "Spearman Corr Result is \n",
      ":                           DiabetesPedigreeFunction  SkinThickness    Age  BloodPressure  Insulin  Pregnancies  Glucose   BMI\n",
      "DiabetesPedigreeFunction                     1.000          0.120  0.043          0.012    0.161       -0.024    0.092 0.135\n",
      "SkinThickness                                0.120          1.000  0.127          0.172    0.161        0.109    0.221 0.604\n",
      "Age                                          0.043          0.127  1.000          0.368   -0.130        0.610    0.286 0.125\n",
      "BloodPressure                                0.012          0.172  0.368          1.000   -0.106        0.259    0.253 0.298\n",
      "Insulin                                      0.161          0.161 -0.130         -0.106    1.000       -0.185    0.117 0.096\n",
      "Pregnancies                                 -0.024          0.109  0.610          0.259   -0.185        1.000    0.211 0.107\n",
      "Glucose                                      0.092          0.221  0.286          0.253    0.117        0.211    1.000 0.233\n",
      "BMI                                          0.135          0.604  0.125          0.298    0.096        0.107    0.233 1.000\n"
     ]
    }
   ],
   "source": [
    "# Numerik Değişkenlerin Birbirleri ile Karşılaştırılması\n",
    "eda.numerical_comparison()"
   ]
  },
  {
   "cell_type": "code",
   "execution_count": 13,
   "metadata": {},
   "outputs": [
    {
     "data": {
      "image/png": "[encoded data removed]",
      "text/plain": [
       "<Figure size 432x288 with 1 Axes>"
      ]
     },
     "metadata": {
      "needs_background": "light"
     },
     "output_type": "display_data"
    }
   ],
   "source": [
    "from sklearn.neighbors import LocalOutlierFactor\n",
    "clf = LocalOutlierFactor(n_neighbors = 20, contamination = 0.1)\n",
    "clf.fit_predict(df)\n",
    "df_scores = clf.negative_outlier_factor_\n",
    "scores = pd.DataFrame(np.sort(df_scores))\n",
    "scores.plot(stacked=True, xlim=[0,20], style='.-')\n",
    "plt.show()"
   ]
  },
  {
   "cell_type": "code",
   "execution_count": 14,
   "metadata": {},
   "outputs": [],
   "source": [
    "# Lof'a göre aykırı değerler çıkarıldı\n",
    "lof_th = np.sort(df_scores)[5]\n",
    "df = df[~(df_scores < lof_th)]"
   ]
  },
  {
   "cell_type": "code",
   "execution_count": 15,
   "metadata": {},
   "outputs": [],
   "source": [
    "# Bir şey daha keşfettik!\n",
    "# DiabetesPedigreeFunction değişkeni kişinin akrabalarında diabet olma olasılığını puanlamaktadır. Biz bu olasılığı min-max scaler ile 0-1 arasına indirgedik.\n",
    "transformer = MinMaxScaler()\n",
    "df[\"DiabetesPedigreeFunction\"] = transformer.fit_transform(df[[\"DiabetesPedigreeFunction\"]])"
   ]
  },
  {
   "cell_type": "code",
   "execution_count": 16,
   "metadata": {},
   "outputs": [],
   "source": [
    "# Bir şey daha!\n",
    "# Insulin değişkenindeki aykırılıklar fazla olduğu için açıklamada belirtilen kategori kırılımlara ayırabiliriz.\n",
    "# 140 altı normal- 140-199 gizli şeker- 200 ve üzeri diyabet\n",
    "df[\"Insulin_cat\"] = pd.cut(x=df[\"Insulin\"],\n",
    "                           bins=[0, 140, 200, df[\"Insulin\"].max()],\n",
    "                           labels=[\"normal\", \"gizli şeker\", \"diyabet\"])\n",
    "\n",
    "df[\"Insulin_cat\"] = df[\"Insulin_cat\"].fillna(\"normal\")\n",
    "df = one_hot_encoder(df, [\"Insulin_cat\"], drop_first=True)\n",
    "df = df.drop(\"Insulin\", axis=1)"
   ]
  },
  {
   "cell_type": "code",
   "execution_count": 17,
   "metadata": {},
   "outputs": [],
   "source": [
    "eda = DsmlbcEDA(dataframe=df, target_col=\"Outcome\")"
   ]
  },
  {
   "cell_type": "code",
   "execution_count": 18,
   "metadata": {},
   "outputs": [
    {
     "name": "stdout",
     "output_type": "stream",
     "text": [
      "First 5 Observations:\n",
      "   Pregnancies  Glucose  BloodPressure  SkinThickness    BMI  DiabetesPedigreeFunction  Age  Outcome  Insulin_cat_gizli şeker  Insulin_cat_diyabet\n",
      "0            6      148             72             35 33.600                     0.234   50        1                        0                    0\n",
      "1            1       85             66             29 26.600                     0.117   31        0                        0                    0\n",
      "2            8      183             64             27 23.300                     0.254   32        1                        0                    0\n",
      "3            1       89             66             23 28.100                     0.038   21        0                        0                    0\n",
      "4            4      137             40             35 43.100                     0.944   33        1                        1                    0\n",
      "\n",
      "\n",
      "Last 5 Observations:\n",
      "     Pregnancies  Glucose  BloodPressure  SkinThickness    BMI  DiabetesPedigreeFunction  Age  Outcome  Insulin_cat_gizli şeker  Insulin_cat_diyabet\n",
      "763           10      101             76             48 32.900                     0.040   63        0                        1                    0\n",
      "764            2      122             70             27 36.800                     0.112   27        0                        0                    0\n",
      "765            5      121             72             23 26.200                     0.071   30        0                        0                    0\n",
      "766            1      126             60             27 30.100                     0.116   47        1                        0                    0\n",
      "767            1       93             70             31 30.400                     0.101   23        0                        0                    0\n",
      "\n",
      "\n",
      "Dataset dimension info: (763, 10)\n",
      "763 observations\n",
      "10 variables\n",
      "\n",
      "\n",
      "Dataset Metadata Info:\n",
      "\n",
      "<class 'pandas.core.frame.DataFrame'>\n",
      "Int64Index: 763 entries, 0 to 767\n",
      "Data columns (total 10 columns):\n",
      " #   Column                    Non-Null Count  Dtype  \n",
      "---  ------                    --------------  -----  \n",
      " 0   Pregnancies               763 non-null    int64  \n",
      " 1   Glucose                   763 non-null    int64  \n",
      " 2   BloodPressure             763 non-null    int64  \n",
      " 3   SkinThickness             763 non-null    int64  \n",
      " 4   BMI                       763 non-null    float64\n",
      " 5   DiabetesPedigreeFunction  763 non-null    float64\n",
      " 6   Age                       763 non-null    int64  \n",
      " 7   Outcome                   763 non-null    int64  \n",
      " 8   Insulin_cat_gizli şeker   763 non-null    uint8  \n",
      " 9   Insulin_cat_diyabet       763 non-null    uint8  \n",
      "dtypes: float64(2), int64(6), uint8(2)\n",
      "memory usage: 55.1 KB\n",
      "\n",
      "Dataset column list:\n",
      "Pregnancies, Glucose, BloodPressure, SkinThickness, BMI, DiabetesPedigreeFunction, Age, Outcome, Insulin_cat_gizli şeker, Insulin_cat_diyabet, \n",
      "Dataset index info:\n",
      "Int64Index([  0,   1,   2,   3,   4,   5,   6,   7,   8,   9,\n",
      "            ...\n",
      "            758, 759, 760, 761, 762, 763, 764, 765, 766, 767], dtype='int64', length=763)\n",
      "\n",
      "Descriptive Statistics\n",
      "\n",
      "                           count    mean    std    min     25%     50%     75%     max\n",
      "Pregnancies              763.000   4.249  3.066  1.000   2.000   3.000   6.000  17.000\n",
      "Glucose                  763.000 121.468 30.183 44.000 100.000 117.000 140.000 199.000\n",
      "BloodPressure            763.000  72.400 11.873 30.000  64.000  72.000  80.000 114.000\n",
      "SkinThickness            763.000  27.347  8.966  7.000  21.000  27.000  32.000  63.000\n",
      "BMI                      763.000  32.448  6.889 18.200  27.500  32.100  36.600  67.100\n",
      "DiabetesPedigreeFunction 763.000   0.167  0.139  0.000   0.071   0.125   0.234   1.000\n",
      "Age                      763.000  33.197 11.705 21.000  24.000  29.000  41.000  81.000\n",
      "Outcome                  763.000   0.349  0.477  0.000   0.000   0.000   1.000   1.000\n",
      "Insulin_cat_gizli şeker  763.000   0.104  0.305  0.000   0.000   0.000   0.000   1.000\n",
      "Insulin_cat_diyabet      763.000   0.109  0.312  0.000   0.000   0.000   0.000   1.000\n",
      "\n",
      "Are there any null values in the data set?: False\n"
     ]
    }
   ],
   "source": [
    "eda.big_picture_summary()"
   ]
  },
  {
   "cell_type": "code",
   "execution_count": 30,
   "metadata": {},
   "outputs": [
    {
     "name": "stdout",
     "output_type": "stream",
     "text": [
      "                           count    mean    std    min     1%     5%    10%     25%     50%     75%     90%     95%     99%     max\n",
      "DiabetesPedigreeFunction 763.000   0.167  0.139  0.000  0.007  0.027  0.037   0.071   0.125   0.234   0.341   0.447   0.666   1.000\n",
      "SkinThickness            763.000  27.347  8.966  7.000 10.000 14.100 18.000  21.000  27.000  32.000  40.000  44.000  50.380  63.000\n",
      "Age                      763.000  33.197 11.705 21.000 21.000 21.000 22.000  24.000  29.000  41.000  51.000  58.000  67.000  81.000\n",
      "BloodPressure            763.000  72.400 11.873 30.000 45.240 52.200 58.000  64.000  72.000  80.000  88.000  90.000 106.000 114.000\n",
      "Pregnancies              763.000   4.249  3.066  1.000  1.000  1.000  1.000   2.000   3.000   6.000   9.000  10.000  13.000  17.000\n",
      "Glucose                  763.000 121.468 30.183 44.000 67.620 80.000 86.200 100.000 117.000 140.000 166.000 180.000 195.000 199.000\n",
      "BMI                      763.000  32.448  6.889 18.200 19.500 22.210 24.020  27.500  32.100  36.600  41.500  44.470  50.874  67.100\n",
      "\n"
     ]
    }
   ],
   "source": [
    "eda.numerical_summary(desc=\"detail\")"
   ]
  },
  {
   "cell_type": "markdown",
   "metadata": {},
   "source": [
    "### İkinci Model Denemesi"
   ]
  },
  {
   "cell_type": "code",
   "execution_count": 19,
   "metadata": {},
   "outputs": [],
   "source": [
    "# Veri setinin eğitim ve test diye ayrılması\n",
    "y = df[\"Outcome\"]\n",
    "X = df.drop([\"Outcome\"], axis=1)\n",
    "X_train, X_test, y_train, y_test = train_test_split(X, y, test_size=0.30, random_state=17)"
   ]
  },
  {
   "cell_type": "code",
   "execution_count": 20,
   "metadata": {},
   "outputs": [],
   "source": [
    "# CART Model Kurulması\n",
    "cart_model = DecisionTreeClassifier(random_state=17).fit(X_train, y_train)"
   ]
  },
  {
   "cell_type": "code",
   "execution_count": 21,
   "metadata": {},
   "outputs": [
    {
     "name": "stdout",
     "output_type": "stream",
     "text": [
      "              precision    recall  f1-score   support\n",
      "\n",
      "           0       0.87      0.81      0.84       163\n",
      "           1       0.60      0.70      0.64        66\n",
      "\n",
      "    accuracy                           0.78       229\n",
      "   macro avg       0.73      0.75      0.74       229\n",
      "weighted avg       0.79      0.78      0.78       229\n",
      "\n"
     ]
    },
    {
     "data": {
      "text/plain": [
       "0.7533928239449712"
      ]
     },
     "execution_count": 21,
     "metadata": {},
     "output_type": "execute_result"
    }
   ],
   "source": [
    "# test hatası\n",
    "y_pred = cart_model.predict(X_test)\n",
    "y_prob = cart_model.predict_proba(X_test)[:, 1]\n",
    "print(classification_report(y_test, y_pred))\n",
    "roc_auc_score(y_test, y_prob)"
   ]
  },
  {
   "cell_type": "code",
   "execution_count": 22,
   "metadata": {},
   "outputs": [
    {
     "name": "stdout",
     "output_type": "stream",
     "text": [
      "|--- SkinThickness <= 23.50\n",
      "|   |--- Glucose <= 160.00\n",
      "|   |   |--- SkinThickness <= 8.50\n",
      "|   |   |   |--- class: 1\n",
      "|   |   |--- SkinThickness >  8.50\n",
      "|   |   |   |--- DiabetesPedigreeFunction <= 0.44\n",
      "|   |   |   |   |--- Age <= 69.50\n",
      "|   |   |   |   |   |--- SkinThickness <= 20.50\n",
      "|   |   |   |   |   |   |--- Glucose <= 150.00\n",
      "|   |   |   |   |   |   |   |--- Pregnancies <= 2.50\n",
      "|   |   |   |   |   |   |   |   |--- class: 0\n",
      "|   |   |   |   |   |   |   |--- Pregnancies >  2.50\n",
      "|   |   |   |   |   |   |   |   |--- DiabetesPedigreeFunction <= 0.24\n",
      "|   |   |   |   |   |   |   |   |   |--- BloodPressure <= 71.00\n",
      "|   |   |   |   |   |   |   |   |   |   |--- Age <= 28.00\n",
      "|   |   |   |   |   |   |   |   |   |   |   |--- class: 0\n",
      "|   |   |   |   |   |   |   |   |   |   |--- Age >  28.00\n",
      "|   |   |   |   |   |   |   |   |   |   |   |--- truncated branch of depth 2\n",
      "|   |   |   |   |   |   |   |   |   |--- BloodPressure >  71.00\n",
      "|   |   |   |   |   |   |   |   |   |   |--- class: 0\n",
      "|   |   |   |   |   |   |   |   |--- DiabetesPedigreeFunction >  0.24\n",
      "|   |   |   |   |   |   |   |   |   |--- DiabetesPedigreeFunction <= 0.29\n",
      "|   |   |   |   |   |   |   |   |   |   |--- class: 1\n",
      "|   |   |   |   |   |   |   |   |   |--- DiabetesPedigreeFunction >  0.29\n",
      "|   |   |   |   |   |   |   |   |   |   |--- class: 0\n",
      "|   |   |   |   |   |   |--- Glucose >  150.00\n",
      "|   |   |   |   |   |   |   |--- DiabetesPedigreeFunction <= 0.12\n",
      "|   |   |   |   |   |   |   |   |--- class: 0\n",
      "|   |   |   |   |   |   |   |--- DiabetesPedigreeFunction >  0.12\n",
      "|   |   |   |   |   |   |   |   |--- class: 1\n",
      "|   |   |   |   |   |--- SkinThickness >  20.50\n",
      "|   |   |   |   |   |   |--- SkinThickness <= 22.50\n",
      "|   |   |   |   |   |   |   |--- class: 0\n",
      "|   |   |   |   |   |   |--- SkinThickness >  22.50\n",
      "|   |   |   |   |   |   |   |--- Age <= 31.00\n",
      "|   |   |   |   |   |   |   |   |--- class: 0\n",
      "|   |   |   |   |   |   |   |--- Age >  31.00\n",
      "|   |   |   |   |   |   |   |   |--- class: 1\n",
      "|   |   |   |   |--- Age >  69.50\n",
      "|   |   |   |   |   |--- DiabetesPedigreeFunction <= 0.19\n",
      "|   |   |   |   |   |   |--- class: 1\n",
      "|   |   |   |   |   |--- DiabetesPedigreeFunction >  0.19\n",
      "|   |   |   |   |   |   |--- class: 0\n",
      "|   |   |   |--- DiabetesPedigreeFunction >  0.44\n",
      "|   |   |   |   |--- DiabetesPedigreeFunction <= 0.57\n",
      "|   |   |   |   |   |--- class: 1\n",
      "|   |   |   |   |--- DiabetesPedigreeFunction >  0.57\n",
      "|   |   |   |   |   |--- class: 0\n",
      "|   |--- Glucose >  160.00\n",
      "|   |   |--- Insulin_cat_gizli şeker <= 0.50\n",
      "|   |   |   |--- SkinThickness <= 22.00\n",
      "|   |   |   |   |--- Age <= 32.50\n",
      "|   |   |   |   |   |--- DiabetesPedigreeFunction <= 0.16\n",
      "|   |   |   |   |   |   |--- class: 1\n",
      "|   |   |   |   |   |--- DiabetesPedigreeFunction >  0.16\n",
      "|   |   |   |   |   |   |--- class: 0\n",
      "|   |   |   |   |--- Age >  32.50\n",
      "|   |   |   |   |   |--- class: 0\n",
      "|   |   |   |--- SkinThickness >  22.00\n",
      "|   |   |   |   |--- class: 1\n",
      "|   |   |--- Insulin_cat_gizli şeker >  0.50\n",
      "|   |   |   |--- class: 1\n",
      "|--- SkinThickness >  23.50\n",
      "|   |--- Glucose <= 127.50\n",
      "|   |   |--- Age <= 28.50\n",
      "|   |   |   |--- BloodPressure <= 54.00\n",
      "|   |   |   |   |--- DiabetesPedigreeFunction <= 0.08\n",
      "|   |   |   |   |   |--- class: 1\n",
      "|   |   |   |   |--- DiabetesPedigreeFunction >  0.08\n",
      "|   |   |   |   |   |--- Pregnancies <= 1.50\n",
      "|   |   |   |   |   |   |--- SkinThickness <= 44.50\n",
      "|   |   |   |   |   |   |   |--- class: 1\n",
      "|   |   |   |   |   |   |--- SkinThickness >  44.50\n",
      "|   |   |   |   |   |   |   |--- class: 0\n",
      "|   |   |   |   |   |--- Pregnancies >  1.50\n",
      "|   |   |   |   |   |   |--- class: 0\n",
      "|   |   |   |--- BloodPressure >  54.00\n",
      "|   |   |   |   |--- DiabetesPedigreeFunction <= 0.51\n",
      "|   |   |   |   |   |--- DiabetesPedigreeFunction <= 0.18\n",
      "|   |   |   |   |   |   |--- Glucose <= 111.50\n",
      "|   |   |   |   |   |   |   |--- class: 0\n",
      "|   |   |   |   |   |   |--- Glucose >  111.50\n",
      "|   |   |   |   |   |   |   |--- BMI <= 32.80\n",
      "|   |   |   |   |   |   |   |   |--- Glucose <= 122.00\n",
      "|   |   |   |   |   |   |   |   |   |--- class: 1\n",
      "|   |   |   |   |   |   |   |   |--- Glucose >  122.00\n",
      "|   |   |   |   |   |   |   |   |   |--- class: 0\n",
      "|   |   |   |   |   |   |   |--- BMI >  32.80\n",
      "|   |   |   |   |   |   |   |   |--- class: 0\n",
      "|   |   |   |   |   |--- DiabetesPedigreeFunction >  0.18\n",
      "|   |   |   |   |   |   |--- BloodPressure <= 69.00\n",
      "|   |   |   |   |   |   |   |--- BloodPressure <= 61.00\n",
      "|   |   |   |   |   |   |   |   |--- class: 0\n",
      "|   |   |   |   |   |   |   |--- BloodPressure >  61.00\n",
      "|   |   |   |   |   |   |   |   |--- SkinThickness <= 29.00\n",
      "|   |   |   |   |   |   |   |   |   |--- class: 0\n",
      "|   |   |   |   |   |   |   |   |--- SkinThickness >  29.00\n",
      "|   |   |   |   |   |   |   |   |   |--- class: 1\n",
      "|   |   |   |   |   |   |--- BloodPressure >  69.00\n",
      "|   |   |   |   |   |   |   |--- class: 0\n",
      "|   |   |   |   |--- DiabetesPedigreeFunction >  0.51\n",
      "|   |   |   |   |   |--- class: 1\n",
      "|   |   |--- Age >  28.50\n",
      "|   |   |   |--- SkinThickness <= 27.50\n",
      "|   |   |   |   |--- Glucose <= 83.50\n",
      "|   |   |   |   |   |--- class: 0\n",
      "|   |   |   |   |--- Glucose >  83.50\n",
      "|   |   |   |   |   |--- Age <= 57.00\n",
      "|   |   |   |   |   |   |--- Glucose <= 99.50\n",
      "|   |   |   |   |   |   |   |--- BMI <= 30.50\n",
      "|   |   |   |   |   |   |   |   |--- class: 0\n",
      "|   |   |   |   |   |   |   |--- BMI >  30.50\n",
      "|   |   |   |   |   |   |   |   |--- class: 1\n",
      "|   |   |   |   |   |   |--- Glucose >  99.50\n",
      "|   |   |   |   |   |   |   |--- class: 1\n",
      "|   |   |   |   |   |--- Age >  57.00\n",
      "|   |   |   |   |   |   |--- BloodPressure <= 79.50\n",
      "|   |   |   |   |   |   |   |--- class: 0\n",
      "|   |   |   |   |   |   |--- BloodPressure >  79.50\n",
      "|   |   |   |   |   |   |   |--- class: 1\n",
      "|   |   |   |--- SkinThickness >  27.50\n",
      "|   |   |   |   |--- DiabetesPedigreeFunction <= 0.19\n",
      "|   |   |   |   |   |--- Glucose <= 102.50\n",
      "|   |   |   |   |   |   |--- class: 0\n",
      "|   |   |   |   |   |--- Glucose >  102.50\n",
      "|   |   |   |   |   |   |--- Insulin_cat_gizli şeker <= 0.50\n",
      "|   |   |   |   |   |   |   |--- DiabetesPedigreeFunction <= 0.07\n",
      "|   |   |   |   |   |   |   |   |--- class: 0\n",
      "|   |   |   |   |   |   |   |--- DiabetesPedigreeFunction >  0.07\n",
      "|   |   |   |   |   |   |   |   |--- Glucose <= 123.00\n",
      "|   |   |   |   |   |   |   |   |   |--- Pregnancies <= 5.50\n",
      "|   |   |   |   |   |   |   |   |   |   |--- Insulin_cat_diyabet <= 0.50\n",
      "|   |   |   |   |   |   |   |   |   |   |   |--- class: 0\n",
      "|   |   |   |   |   |   |   |   |   |   |--- Insulin_cat_diyabet >  0.50\n",
      "|   |   |   |   |   |   |   |   |   |   |   |--- class: 1\n",
      "|   |   |   |   |   |   |   |   |   |--- Pregnancies >  5.50\n",
      "|   |   |   |   |   |   |   |   |   |   |--- class: 1\n",
      "|   |   |   |   |   |   |   |   |--- Glucose >  123.00\n",
      "|   |   |   |   |   |   |   |   |   |--- class: 0\n",
      "|   |   |   |   |   |   |--- Insulin_cat_gizli şeker >  0.50\n",
      "|   |   |   |   |   |   |   |--- class: 1\n",
      "|   |   |   |   |--- DiabetesPedigreeFunction >  0.19\n",
      "|   |   |   |   |   |--- Pregnancies <= 3.50\n",
      "|   |   |   |   |   |   |--- Glucose <= 113.00\n",
      "|   |   |   |   |   |   |   |--- Age <= 29.50\n",
      "|   |   |   |   |   |   |   |   |--- class: 1\n",
      "|   |   |   |   |   |   |   |--- Age >  29.50\n",
      "|   |   |   |   |   |   |   |   |--- class: 0\n",
      "|   |   |   |   |   |   |--- Glucose >  113.00\n",
      "|   |   |   |   |   |   |   |--- class: 1\n",
      "|   |   |   |   |   |--- Pregnancies >  3.50\n",
      "|   |   |   |   |   |   |--- BloodPressure <= 73.00\n",
      "|   |   |   |   |   |   |   |--- Glucose <= 117.00\n",
      "|   |   |   |   |   |   |   |   |--- class: 1\n",
      "|   |   |   |   |   |   |   |--- Glucose >  117.00\n",
      "|   |   |   |   |   |   |   |   |--- class: 0\n",
      "|   |   |   |   |   |   |--- BloodPressure >  73.00\n",
      "|   |   |   |   |   |   |   |--- class: 1\n",
      "|   |--- Glucose >  127.50\n",
      "|   |   |--- Glucose <= 165.50\n",
      "|   |   |   |--- Pregnancies <= 2.50\n",
      "|   |   |   |   |--- Age <= 24.50\n",
      "|   |   |   |   |   |--- BloodPressure <= 53.00\n",
      "|   |   |   |   |   |   |--- class: 1\n",
      "|   |   |   |   |   |--- BloodPressure >  53.00\n",
      "|   |   |   |   |   |   |--- class: 0\n",
      "|   |   |   |   |--- Age >  24.50\n",
      "|   |   |   |   |   |--- DiabetesPedigreeFunction <= 0.11\n",
      "|   |   |   |   |   |   |--- BloodPressure <= 75.00\n",
      "|   |   |   |   |   |   |   |--- class: 1\n",
      "|   |   |   |   |   |   |--- BloodPressure >  75.00\n",
      "|   |   |   |   |   |   |   |--- DiabetesPedigreeFunction <= 0.11\n",
      "|   |   |   |   |   |   |   |   |--- class: 0\n",
      "|   |   |   |   |   |   |   |--- DiabetesPedigreeFunction >  0.11\n",
      "|   |   |   |   |   |   |   |   |--- Glucose <= 154.00\n",
      "|   |   |   |   |   |   |   |   |   |--- class: 1\n",
      "|   |   |   |   |   |   |   |   |--- Glucose >  154.00\n",
      "|   |   |   |   |   |   |   |   |   |--- class: 0\n",
      "|   |   |   |   |   |--- DiabetesPedigreeFunction >  0.11\n",
      "|   |   |   |   |   |   |--- Age <= 29.50\n",
      "|   |   |   |   |   |   |   |--- DiabetesPedigreeFunction <= 0.19\n",
      "|   |   |   |   |   |   |   |   |--- class: 1\n",
      "|   |   |   |   |   |   |   |--- DiabetesPedigreeFunction >  0.19\n",
      "|   |   |   |   |   |   |   |   |--- class: 0\n",
      "|   |   |   |   |   |   |--- Age >  29.50\n",
      "|   |   |   |   |   |   |   |--- class: 1\n",
      "|   |   |   |--- Pregnancies >  2.50\n",
      "|   |   |   |   |--- Age <= 60.50\n",
      "|   |   |   |   |   |--- Glucose <= 164.00\n",
      "|   |   |   |   |   |   |--- Age <= 41.50\n",
      "|   |   |   |   |   |   |   |--- Age <= 38.50\n",
      "|   |   |   |   |   |   |   |   |--- Glucose <= 146.50\n",
      "|   |   |   |   |   |   |   |   |   |--- class: 1\n",
      "|   |   |   |   |   |   |   |   |--- Glucose >  146.50\n",
      "|   |   |   |   |   |   |   |   |   |--- Glucose <= 156.50\n",
      "|   |   |   |   |   |   |   |   |   |   |--- Pregnancies <= 6.50\n",
      "|   |   |   |   |   |   |   |   |   |   |   |--- truncated branch of depth 3\n",
      "|   |   |   |   |   |   |   |   |   |   |--- Pregnancies >  6.50\n",
      "|   |   |   |   |   |   |   |   |   |   |   |--- class: 1\n",
      "|   |   |   |   |   |   |   |   |   |--- Glucose >  156.50\n",
      "|   |   |   |   |   |   |   |   |   |   |--- class: 1\n",
      "|   |   |   |   |   |   |   |--- Age >  38.50\n",
      "|   |   |   |   |   |   |   |   |--- BMI <= 33.40\n",
      "|   |   |   |   |   |   |   |   |   |--- BloodPressure <= 81.00\n",
      "|   |   |   |   |   |   |   |   |   |   |--- class: 1\n",
      "|   |   |   |   |   |   |   |   |   |--- BloodPressure >  81.00\n",
      "|   |   |   |   |   |   |   |   |   |   |--- class: 0\n",
      "|   |   |   |   |   |   |   |   |--- BMI >  33.40\n",
      "|   |   |   |   |   |   |   |   |   |--- class: 0\n",
      "|   |   |   |   |   |   |--- Age >  41.50\n",
      "|   |   |   |   |   |   |   |--- BMI <= 26.40\n",
      "|   |   |   |   |   |   |   |   |--- DiabetesPedigreeFunction <= 0.16\n",
      "|   |   |   |   |   |   |   |   |   |--- class: 1\n",
      "|   |   |   |   |   |   |   |   |--- DiabetesPedigreeFunction >  0.16\n",
      "|   |   |   |   |   |   |   |   |   |--- class: 0\n",
      "|   |   |   |   |   |   |   |--- BMI >  26.40\n",
      "|   |   |   |   |   |   |   |   |--- class: 1\n",
      "|   |   |   |   |   |--- Glucose >  164.00\n",
      "|   |   |   |   |   |   |--- class: 0\n",
      "|   |   |   |   |--- Age >  60.50\n",
      "|   |   |   |   |   |--- BMI <= 30.00\n",
      "|   |   |   |   |   |   |--- class: 0\n",
      "|   |   |   |   |   |--- BMI >  30.00\n",
      "|   |   |   |   |   |   |--- class: 1\n",
      "|   |   |--- Glucose >  165.50\n",
      "|   |   |   |--- BloodPressure <= 108.00\n",
      "|   |   |   |   |--- SkinThickness <= 26.00\n",
      "|   |   |   |   |   |--- DiabetesPedigreeFunction <= 0.12\n",
      "|   |   |   |   |   |   |--- class: 0\n",
      "|   |   |   |   |   |--- DiabetesPedigreeFunction >  0.12\n",
      "|   |   |   |   |   |   |--- class: 1\n",
      "|   |   |   |   |--- SkinThickness >  26.00\n",
      "|   |   |   |   |   |--- BMI <= 46.10\n",
      "|   |   |   |   |   |   |--- class: 1\n",
      "|   |   |   |   |   |--- BMI >  46.10\n",
      "|   |   |   |   |   |   |--- Insulin_cat_diyabet <= 0.50\n",
      "|   |   |   |   |   |   |   |--- class: 1\n",
      "|   |   |   |   |   |   |--- Insulin_cat_diyabet >  0.50\n",
      "|   |   |   |   |   |   |   |--- class: 0\n",
      "|   |   |   |--- BloodPressure >  108.00\n",
      "|   |   |   |   |--- BMI <= 36.95\n",
      "|   |   |   |   |   |--- class: 0\n",
      "|   |   |   |   |--- BMI >  36.95\n",
      "|   |   |   |   |   |--- class: 1\n",
      "\n"
     ]
    }
   ],
   "source": [
    "tree_rules = export_text(cart_model, feature_names=list(X_train.columns))\n",
    "print(tree_rules)"
   ]
  },
  {
   "cell_type": "code",
   "execution_count": 23,
   "metadata": {},
   "outputs": [
    {
     "data": {
      "image/png": "[encoded data removed]",
      "text/plain": [
       "<Figure size 720x720 with 1 Axes>"
      ]
     },
     "metadata": {
      "needs_background": "light"
     },
     "output_type": "display_data"
    }
   ],
   "source": [
    "def plot_importance(model, features, num=len(X), save=False):\n",
    "    feature_imp = pd.DataFrame({'Value': model.feature_importances_, 'Feature': features.columns})\n",
    "    plt.figure(figsize=(10, 10))\n",
    "    sns.set(font_scale=1)\n",
    "    sns.barplot(x=\"Value\", y=\"Feature\", data=feature_imp.sort_values(by=\"Value\",\n",
    "                                                                     ascending=False)[0:num])\n",
    "    plt.title('Features')\n",
    "    plt.tight_layout()\n",
    "    plt.show()\n",
    "    if save:\n",
    "        plt.savefig('importances.png')\n",
    "\n",
    "plot_importance(cart_model, X_train)"
   ]
  },
  {
   "cell_type": "code",
   "execution_count": 24,
   "metadata": {},
   "outputs": [],
   "source": [
    "cart_model = DecisionTreeClassifier(random_state=17)"
   ]
  },
  {
   "cell_type": "code",
   "execution_count": 25,
   "metadata": {},
   "outputs": [],
   "source": [
    "# arama yapılacak hiperparametre setleri\n",
    "cart_params = {'max_depth': range(1, 11),\n",
    "               \"min_samples_split\": [2, 3, 4]}"
   ]
  },
  {
   "cell_type": "code",
   "execution_count": 26,
   "metadata": {},
   "outputs": [
    {
     "name": "stdout",
     "output_type": "stream",
     "text": [
      "Fitting 5 folds for each of 30 candidates, totalling 150 fits\n"
     ]
    },
    {
     "name": "stderr",
     "output_type": "stream",
     "text": [
      "[Parallel(n_jobs=-1)]: Using backend LokyBackend with 8 concurrent workers.\n",
      "[Parallel(n_jobs=-1)]: Done  34 tasks      | elapsed:    3.1s\n",
      "[Parallel(n_jobs=-1)]: Done 135 out of 150 | elapsed:    3.4s remaining:    0.3s\n",
      "[Parallel(n_jobs=-1)]: Done 150 out of 150 | elapsed:    3.4s finished\n"
     ]
    },
    {
     "data": {
      "text/plain": [
       "GridSearchCV(cv=5, estimator=DecisionTreeClassifier(random_state=17), n_jobs=-1,\n",
       "             param_grid={'max_depth': range(1, 11),\n",
       "                         'min_samples_split': [2, 3, 4]},\n",
       "             verbose=True)"
      ]
     },
     "execution_count": 26,
     "metadata": {},
     "output_type": "execute_result"
    }
   ],
   "source": [
    "cart_cv = GridSearchCV(cart_model, cart_params, cv=5, n_jobs=-1, verbose=True)\n",
    "cart_cv.fit(X_train, y_train)"
   ]
  },
  {
   "cell_type": "code",
   "execution_count": 27,
   "metadata": {},
   "outputs": [],
   "source": [
    "cart_tuned = DecisionTreeClassifier(**cart_cv.best_params_).fit(X_train, y_train)"
   ]
  },
  {
   "cell_type": "code",
   "execution_count": 28,
   "metadata": {},
   "outputs": [
    {
     "name": "stdout",
     "output_type": "stream",
     "text": [
      "              precision    recall  f1-score   support\n",
      "\n",
      "           0       0.87      0.90      0.89       163\n",
      "           1       0.73      0.67      0.70        66\n",
      "\n",
      "    accuracy                           0.83       229\n",
      "   macro avg       0.80      0.78      0.79       229\n",
      "weighted avg       0.83      0.83      0.83       229\n",
      "\n"
     ]
    },
    {
     "data": {
      "text/plain": [
       "0.8587562744004462"
      ]
     },
     "execution_count": 28,
     "metadata": {},
     "output_type": "execute_result"
    }
   ],
   "source": [
    "y_pred = cart_tuned.predict(X_test)\n",
    "y_prob = cart_tuned.predict_proba(X_test)[:, 1]\n",
    "print(classification_report(y_test, y_pred))\n",
    "roc_auc_score(y_test, y_prob)"
   ]
  },
  {
   "cell_type": "code",
   "execution_count": 31,
   "metadata": {},
   "outputs": [
    {
     "data": {
      "text/plain": [
       "['third_model_0.74.pkl']"
      ]
     },
     "execution_count": 31,
     "metadata": {},
     "output_type": "execute_result"
    }
   ],
   "source": [
    "joblib.dump(cart_tuned, \"third_model_0.74.pkl\")"
   ]
  }
 ],
 "metadata": {
  "kernelspec": {
   "display_name": "Python 3",
   "language": "python",
   "name": "python3"
  },
  "language_info": {
   "codemirror_mode": {
    "name": "ipython",
    "version": 3
   },
   "file_extension": ".py",
   "mimetype": "text/x-python",
   "name": "python",
   "nbconvert_exporter": "python",
   "pygments_lexer": "ipython3",
   "version": "3.8.5"
  }
 },
 "nbformat": 4,
 "nbformat_minor": 4
}
