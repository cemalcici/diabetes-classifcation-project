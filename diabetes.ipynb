{
 "cells": [
  {
   "cell_type": "code",
   "execution_count": 1,
   "metadata": {},
   "outputs": [],
   "source": [
    "# Gerekli Kütüphaneler\n",
    "import pandas as pd\n",
    "import numpy as np\n",
    "import seaborn as sns\n",
    "import matplotlib.pyplot as plt\n",
    "from sklearn.tree import DecisionTreeClassifier\n",
    "import missingno as msno\n",
    "import pickle"
   ]
  },
  {
   "cell_type": "code",
   "execution_count": 2,
   "metadata": {},
   "outputs": [],
   "source": [
    "# Pandas Ayarları\n",
    "pd.pandas.set_option('display.max_columns', None)\n",
    "pd.set_option('display.float_format', lambda x: '%.3f' % x)\n",
    "pd.set_option('display.width', 170)"
   ]
  },
  {
   "cell_type": "code",
   "execution_count": 3,
   "metadata": {},
   "outputs": [],
   "source": [
    "# Kendi Oluşturduğum Kütüphaneler\n",
    "from dsmlbc_eda import DsmlbcEDA # EDA modülü\n",
    "from data_prep import * # Veri ön işleme fonksiyonlarının oluşturulduğu modül"
   ]
  },
  {
   "cell_type": "code",
   "execution_count": 4,
   "metadata": {},
   "outputs": [],
   "source": [
    "def load_data():\n",
    "    \"\"\"\n",
    "    Diabetes veri setini döndürür.\n",
    "    \"\"\"\n",
    "    return pd.read_csv(\"diabetes.csv\")"
   ]
  },
  {
   "cell_type": "code",
   "execution_count": 5,
   "metadata": {},
   "outputs": [
    {
     "data": {
      "text/html": [
       "<div>\n",
       "<style scoped>\n",
       "    .dataframe tbody tr th:only-of-type {\n",
       "        vertical-align: middle;\n",
       "    }\n",
       "\n",
       "    .dataframe tbody tr th {\n",
       "        vertical-align: top;\n",
       "    }\n",
       "\n",
       "    .dataframe thead th {\n",
       "        text-align: right;\n",
       "    }\n",
       "</style>\n",
       "<table border=\"1\" class=\"dataframe\">\n",
       "  <thead>\n",
       "    <tr style=\"text-align: right;\">\n",
       "      <th></th>\n",
       "      <th>Pregnancies</th>\n",
       "      <th>Glucose</th>\n",
       "      <th>BloodPressure</th>\n",
       "      <th>SkinThickness</th>\n",
       "      <th>Insulin</th>\n",
       "      <th>BMI</th>\n",
       "      <th>DiabetesPedigreeFunction</th>\n",
       "      <th>Age</th>\n",
       "      <th>Outcome</th>\n",
       "    </tr>\n",
       "  </thead>\n",
       "  <tbody>\n",
       "    <tr>\n",
       "      <th>0</th>\n",
       "      <td>6</td>\n",
       "      <td>148</td>\n",
       "      <td>72</td>\n",
       "      <td>35</td>\n",
       "      <td>0</td>\n",
       "      <td>33.600</td>\n",
       "      <td>0.627</td>\n",
       "      <td>50</td>\n",
       "      <td>1</td>\n",
       "    </tr>\n",
       "    <tr>\n",
       "      <th>1</th>\n",
       "      <td>1</td>\n",
       "      <td>85</td>\n",
       "      <td>66</td>\n",
       "      <td>29</td>\n",
       "      <td>0</td>\n",
       "      <td>26.600</td>\n",
       "      <td>0.351</td>\n",
       "      <td>31</td>\n",
       "      <td>0</td>\n",
       "    </tr>\n",
       "    <tr>\n",
       "      <th>2</th>\n",
       "      <td>8</td>\n",
       "      <td>183</td>\n",
       "      <td>64</td>\n",
       "      <td>0</td>\n",
       "      <td>0</td>\n",
       "      <td>23.300</td>\n",
       "      <td>0.672</td>\n",
       "      <td>32</td>\n",
       "      <td>1</td>\n",
       "    </tr>\n",
       "    <tr>\n",
       "      <th>3</th>\n",
       "      <td>1</td>\n",
       "      <td>89</td>\n",
       "      <td>66</td>\n",
       "      <td>23</td>\n",
       "      <td>94</td>\n",
       "      <td>28.100</td>\n",
       "      <td>0.167</td>\n",
       "      <td>21</td>\n",
       "      <td>0</td>\n",
       "    </tr>\n",
       "    <tr>\n",
       "      <th>4</th>\n",
       "      <td>0</td>\n",
       "      <td>137</td>\n",
       "      <td>40</td>\n",
       "      <td>35</td>\n",
       "      <td>168</td>\n",
       "      <td>43.100</td>\n",
       "      <td>2.288</td>\n",
       "      <td>33</td>\n",
       "      <td>1</td>\n",
       "    </tr>\n",
       "  </tbody>\n",
       "</table>\n",
       "</div>"
      ],
      "text/plain": [
       "   Pregnancies  Glucose  BloodPressure  SkinThickness  Insulin    BMI  DiabetesPedigreeFunction  Age  Outcome\n",
       "0            6      148             72             35        0 33.600                     0.627   50        1\n",
       "1            1       85             66             29        0 26.600                     0.351   31        0\n",
       "2            8      183             64              0        0 23.300                     0.672   32        1\n",
       "3            1       89             66             23       94 28.100                     0.167   21        0\n",
       "4            0      137             40             35      168 43.100                     2.288   33        1"
      ]
     },
     "execution_count": 5,
     "metadata": {},
     "output_type": "execute_result"
    }
   ],
   "source": [
    "# Veri Seti Yüklendi\n",
    "df = load_data()\n",
    "df.head()"
   ]
  },
  {
   "cell_type": "code",
   "execution_count": 6,
   "metadata": {},
   "outputs": [],
   "source": [
    "# Diabetes veri seti için DsmlbcEDA nesnesi oluşturuldu.\n",
    "eda = DsmlbcEDA(dataframe=df, target_col=\"Outcome\")"
   ]
  },
  {
   "cell_type": "code",
   "execution_count": 7,
   "metadata": {},
   "outputs": [
    {
     "name": "stdout",
     "output_type": "stream",
     "text": [
      "First 5 Observations:\n",
      "   Pregnancies  Glucose  BloodPressure  SkinThickness  Insulin    BMI  DiabetesPedigreeFunction  Age  Outcome\n",
      "0            6      148             72             35        0 33.600                     0.627   50        1\n",
      "1            1       85             66             29        0 26.600                     0.351   31        0\n",
      "2            8      183             64              0        0 23.300                     0.672   32        1\n",
      "3            1       89             66             23       94 28.100                     0.167   21        0\n",
      "4            0      137             40             35      168 43.100                     2.288   33        1\n",
      "\n",
      "\n",
      "Last 5 Observations:\n",
      "     Pregnancies  Glucose  BloodPressure  SkinThickness  Insulin    BMI  DiabetesPedigreeFunction  Age  Outcome\n",
      "763           10      101             76             48      180 32.900                     0.171   63        0\n",
      "764            2      122             70             27        0 36.800                     0.340   27        0\n",
      "765            5      121             72             23      112 26.200                     0.245   30        0\n",
      "766            1      126             60              0        0 30.100                     0.349   47        1\n",
      "767            1       93             70             31        0 30.400                     0.315   23        0\n",
      "\n",
      "\n",
      "Dataset dimension info: (768, 9)\n",
      "768 observations\n",
      "9 variables\n",
      "\n",
      "\n",
      "Dataset Metadata Info:\n",
      "\n",
      "<class 'pandas.core.frame.DataFrame'>\n",
      "RangeIndex: 768 entries, 0 to 767\n",
      "Data columns (total 9 columns):\n",
      " #   Column                    Non-Null Count  Dtype  \n",
      "---  ------                    --------------  -----  \n",
      " 0   Pregnancies               768 non-null    int64  \n",
      " 1   Glucose                   768 non-null    int64  \n",
      " 2   BloodPressure             768 non-null    int64  \n",
      " 3   SkinThickness             768 non-null    int64  \n",
      " 4   Insulin                   768 non-null    int64  \n",
      " 5   BMI                       768 non-null    float64\n",
      " 6   DiabetesPedigreeFunction  768 non-null    float64\n",
      " 7   Age                       768 non-null    int64  \n",
      " 8   Outcome                   768 non-null    int64  \n",
      "dtypes: float64(2), int64(7)\n",
      "memory usage: 54.1 KB\n",
      "\n",
      "Dataset column list:\n",
      "Pregnancies, Glucose, BloodPressure, SkinThickness, Insulin, BMI, DiabetesPedigreeFunction, Age, Outcome, \n",
      "Dataset index info:\n",
      "RangeIndex(start=0, stop=768, step=1)\n",
      "\n",
      "Descriptive Statistics\n",
      "\n",
      "                           count    mean     std    min    25%     50%     75%     max\n",
      "Pregnancies              768.000   3.845   3.370  0.000  1.000   3.000   6.000  17.000\n",
      "Glucose                  768.000 120.895  31.973  0.000 99.000 117.000 140.250 199.000\n",
      "BloodPressure            768.000  69.105  19.356  0.000 62.000  72.000  80.000 122.000\n",
      "SkinThickness            768.000  20.536  15.952  0.000  0.000  23.000  32.000  99.000\n",
      "Insulin                  768.000  79.799 115.244  0.000  0.000  30.500 127.250 846.000\n",
      "BMI                      768.000  31.993   7.884  0.000 27.300  32.000  36.600  67.100\n",
      "DiabetesPedigreeFunction 768.000   0.472   0.331  0.078  0.244   0.372   0.626   2.420\n",
      "Age                      768.000  33.241  11.760 21.000 24.000  29.000  41.000  81.000\n",
      "Outcome                  768.000   0.349   0.477  0.000  0.000   0.000   1.000   1.000\n",
      "\n",
      "Are there any null values in the data set?: False\n"
     ]
    }
   ],
   "source": [
    "# Veri seti hakkında temel incelemeler yapıldı.\n",
    "eda.big_picture_summary()"
   ]
  },
  {
   "cell_type": "code",
   "execution_count": 8,
   "metadata": {},
   "outputs": [
    {
     "data": {
      "text/plain": [
       "['DiabetesPedigreeFunction',\n",
       " 'Insulin',\n",
       " 'Pregnancies',\n",
       " 'SkinThickness',\n",
       " 'BloodPressure',\n",
       " 'BMI',\n",
       " 'Age',\n",
       " 'Glucose']"
      ]
     },
     "execution_count": 8,
     "metadata": {},
     "output_type": "execute_result"
    }
   ],
   "source": [
    "# Numerik değişkenleri belirleme\n",
    "num_cols = eda.final_numerical_cols()\n",
    "num_cols"
   ]
  },
  {
   "cell_type": "code",
   "execution_count": 9,
   "metadata": {},
   "outputs": [
    {
     "name": "stdout",
     "output_type": "stream",
     "text": [
      "                           count    mean     std    min     1%     5%    10%    25%     50%     75%     90%     95%     99%     max\n",
      "DiabetesPedigreeFunction 768.000   0.472   0.331  0.078  0.095  0.140  0.165  0.244   0.372   0.626   0.879   1.133   1.698   2.420\n",
      "Insulin                  768.000  79.799 115.244  0.000  0.000  0.000  0.000  0.000  30.500 127.250 210.000 293.000 519.900 846.000\n",
      "Pregnancies              768.000   3.845   3.370  0.000  0.000  0.000  0.000  1.000   3.000   6.000   9.000  10.000  13.000  17.000\n",
      "SkinThickness            768.000  20.536  15.952  0.000  0.000  0.000  0.000  0.000  23.000  32.000  40.000  44.000  51.330  99.000\n",
      "BloodPressure            768.000  69.105  19.356  0.000  0.000 38.700 54.000 62.000  72.000  80.000  88.000  90.000 106.000 122.000\n",
      "BMI                      768.000  31.993   7.884  0.000  0.000 21.800 23.600 27.300  32.000  36.600  41.500  44.395  50.759  67.100\n",
      "Age                      768.000  33.241  11.760 21.000 21.000 21.000 22.000 24.000  29.000  41.000  51.000  58.000  67.000  81.000\n",
      "Glucose                  768.000 120.895  31.973  0.000 57.000 79.000 85.000 99.000 117.000 140.250 167.000 181.000 196.000 199.000\n",
      "\n"
     ]
    },
    {
     "data": {
      "image/png": "[encoded data removed]",
      "text/plain": [
       "<Figure size 432x288 with 1 Axes>"
      ]
     },
     "metadata": {
      "needs_background": "light"
     },
     "output_type": "display_data"
    },
    {
     "data": {
      "image/png": "[encoded data removed]",
      "text/plain": [
       "<Figure size 432x288 with 1 Axes>"
      ]
     },
     "metadata": {
      "needs_background": "light"
     },
     "output_type": "display_data"
    },
    {
     "data": {
      "image/png": "[encoded data removed]",
      "text/plain": [
       "<Figure size 432x288 with 1 Axes>"
      ]
     },
     "metadata": {
      "needs_background": "light"
     },
     "output_type": "display_data"
    },
    {
     "data": {
      "image/png": "[encoded data removed]",
      "text/plain": [
       "<Figure size 432x288 with 1 Axes>"
      ]
     },
     "metadata": {
      "needs_background": "light"
     },
     "output_type": "display_data"
    },
    {
     "data": {
      "image/png": "[encoded data removed]",
      "text/plain": [
       "<Figure size 432x288 with 1 Axes>"
      ]
     },
     "metadata": {
      "needs_background": "light"
     },
     "output_type": "display_data"
    },
    {
     "data": {
      "image/png": "[encoded data removed]",
      "text/plain": [
       "<Figure size 432x288 with 1 Axes>"
      ]
     },
     "metadata": {
      "needs_background": "light"
     },
     "output_type": "display_data"
    },
    {
     "data": {
      "image/png": "[encoded data removed]",
      "text/plain": [
       "<Figure size 432x288 with 1 Axes>"
      ]
     },
     "metadata": {
      "needs_background": "light"
     },
     "output_type": "display_data"
    },
    {
     "data": {
      "image/png": "[encoded data removed]",
      "text/plain": [
       "<Figure size 432x288 with 1 Axes>"
      ]
     },
     "metadata": {
      "needs_background": "light"
     },
     "output_type": "display_data"
    },
    {
     "data": {
      "image/png": "[encoded data removed]",
      "text/plain": [
       "<Figure size 432x288 with 1 Axes>"
      ]
     },
     "metadata": {
      "needs_background": "light"
     },
     "output_type": "display_data"
    },
    {
     "data": {
      "image/png": "[encoded data removed]",
      "text/plain": [
       "<Figure size 432x288 with 1 Axes>"
      ]
     },
     "metadata": {
      "needs_background": "light"
     },
     "output_type": "display_data"
    },
    {
     "data": {
      "image/png": "[encoded data removed]",
      "text/plain": [
       "<Figure size 432x288 with 1 Axes>"
      ]
     },
     "metadata": {
      "needs_background": "light"
     },
     "output_type": "display_data"
    },
    {
     "data": {
      "image/png": "[encoded data removed]",
      "text/plain": [
       "<Figure size 432x288 with 1 Axes>"
      ]
     },
     "metadata": {
      "needs_background": "light"
     },
     "output_type": "display_data"
    },
    {
     "data": {
      "image/png": "[encoded data removed]",
      "text/plain": [
       "<Figure size 432x288 with 1 Axes>"
      ]
     },
     "metadata": {
      "needs_background": "light"
     },
     "output_type": "display_data"
    },
    {
     "data": {
      "image/png": "[encoded data removed]",
      "text/plain": [
       "<Figure size 432x288 with 1 Axes>"
      ]
     },
     "metadata": {
      "needs_background": "light"
     },
     "output_type": "display_data"
    },
    {
     "data": {
      "image/png": "[encoded data removed]",
      "text/plain": [
       "<Figure size 432x288 with 1 Axes>"
      ]
     },
     "metadata": {
      "needs_background": "light"
     },
     "output_type": "display_data"
    },
    {
     "data": {
      "image/png": "[encoded data removed]",
      "text/plain": [
       "<Figure size 432x288 with 1 Axes>"
      ]
     },
     "metadata": {
      "needs_background": "light"
     },
     "output_type": "display_data"
    },
    {
     "name": "stdout",
     "output_type": "stream",
     "text": [
      "8 variables have been plotted.\n"
     ]
    }
   ],
   "source": [
    "# Numerik Değişken Analizi\n",
    "eda.numerical_summary(desc=\"detail\",\n",
    "                      plot_outliers=True,\n",
    "                      plotting=True)"
   ]
  },
  {
   "cell_type": "code",
   "execution_count": 10,
   "metadata": {},
   "outputs": [
    {
     "name": "stdout",
     "output_type": "stream",
     "text": [
      "         DiabetesPedigreeFunction\n",
      "Outcome                          \n",
      "0                           0.430\n",
      "1                           0.550\n",
      "\n",
      "\n",
      "         Insulin\n",
      "Outcome         \n",
      "0         68.792\n",
      "1        100.336\n",
      "\n",
      "\n",
      "         Pregnancies\n",
      "Outcome             \n",
      "0              3.298\n",
      "1              4.866\n",
      "\n",
      "\n",
      "         SkinThickness\n",
      "Outcome               \n",
      "0               19.664\n",
      "1               22.164\n",
      "\n",
      "\n",
      "         BloodPressure\n",
      "Outcome               \n",
      "0               68.184\n",
      "1               70.825\n",
      "\n",
      "\n",
      "           BMI\n",
      "Outcome       \n",
      "0       30.304\n",
      "1       35.143\n",
      "\n",
      "\n",
      "           Age\n",
      "Outcome       \n",
      "0       31.190\n",
      "1       37.067\n",
      "\n",
      "\n",
      "         Glucose\n",
      "Outcome         \n",
      "0        109.980\n",
      "1        141.257\n",
      "\n",
      "\n"
     ]
    }
   ],
   "source": [
    "# Numerik değişkenlere göre target analizi\n",
    "eda.target_summary_with_num()"
   ]
  },
  {
   "cell_type": "code",
   "execution_count": 11,
   "metadata": {},
   "outputs": [
    {
     "name": "stdout",
     "output_type": "stream",
     "text": [
      "Spearman Corr Result is \n",
      ":                           DiabetesPedigreeFunction  Insulin  Pregnancies  SkinThickness  BloodPressure   BMI    Age  Glucose\n",
      "DiabetesPedigreeFunction                     1.000    0.221       -0.043          0.180          0.030 0.141  0.043    0.091\n",
      "Insulin                                      0.221    1.000       -0.127          0.541         -0.007 0.193 -0.114    0.213\n",
      "Pregnancies                                 -0.043   -0.127        1.000         -0.085          0.185 0.000  0.607    0.131\n",
      "SkinThickness                                0.180    0.541       -0.085          1.000          0.126 0.444 -0.067    0.060\n",
      "BloodPressure                                0.030   -0.007        0.185          0.126          1.000 0.293  0.351    0.235\n",
      "BMI                                          0.141    0.193        0.000          0.444          0.293 1.000  0.131    0.231\n",
      "Age                                          0.043   -0.114        0.607         -0.067          0.351 0.131  1.000    0.285\n",
      "Glucose                                      0.091    0.213        0.131          0.060          0.235 0.231  0.285    1.000\n"
     ]
    }
   ],
   "source": [
    "# Numerik Değişkenlerin Birbirleri ile Karşılaştırılması\n",
    "eda.numerical_comparison()"
   ]
  },
  {
   "cell_type": "code",
   "execution_count": 14,
   "metadata": {},
   "outputs": [
    {
     "data": {
      "image/png": "[encoded data removed]",
      "text/plain": [
       "<Figure size 432x288 with 1 Axes>"
      ]
     },
     "metadata": {
      "needs_background": "light"
     },
     "output_type": "display_data"
    }
   ],
   "source": [
    "from sklearn.neighbors import LocalOutlierFactor\n",
    "clf = LocalOutlierFactor(n_neighbors = 20, contamination = 0.1)\n",
    "clf.fit_predict(df)\n",
    "df_scores = clf.negative_outlier_factor_\n",
    "scores = pd.DataFrame(np.sort(df_scores))\n",
    "scores.plot(stacked=True, xlim=[0,20], style='.-')\n",
    "plt.show()"
   ]
  },
  {
   "cell_type": "code",
   "execution_count": 17,
   "metadata": {},
   "outputs": [],
   "source": [
    "# Lof'a göre aykırı değerler çıkarıldı\n",
    "lof_th = np.sort(df_scores)[10]\n",
    "df = df[~(df_scores < lof_th)]"
   ]
  },
  {
   "cell_type": "code",
   "execution_count": 18,
   "metadata": {},
   "outputs": [],
   "source": [
    "eda = DsmlbcEDA(dataframe=df, target_col=\"Outcome\")"
   ]
  },
  {
   "cell_type": "code",
   "execution_count": 19,
   "metadata": {},
   "outputs": [
    {
     "name": "stdout",
     "output_type": "stream",
     "text": [
      "First 5 Observations:\n",
      "   Pregnancies  Glucose  BloodPressure  SkinThickness  Insulin    BMI  DiabetesPedigreeFunction  Age  Outcome\n",
      "0            6      148             72             35        0 33.600                     0.627   50        1\n",
      "1            1       85             66             29        0 26.600                     0.351   31        0\n",
      "2            8      183             64              0        0 23.300                     0.672   32        1\n",
      "3            1       89             66             23       94 28.100                     0.167   21        0\n",
      "4            0      137             40             35      168 43.100                     2.288   33        1\n",
      "\n",
      "\n",
      "Last 5 Observations:\n",
      "     Pregnancies  Glucose  BloodPressure  SkinThickness  Insulin    BMI  DiabetesPedigreeFunction  Age  Outcome\n",
      "763           10      101             76             48      180 32.900                     0.171   63        0\n",
      "764            2      122             70             27        0 36.800                     0.340   27        0\n",
      "765            5      121             72             23      112 26.200                     0.245   30        0\n",
      "766            1      126             60              0        0 30.100                     0.349   47        1\n",
      "767            1       93             70             31        0 30.400                     0.315   23        0\n",
      "\n",
      "\n",
      "Dataset dimension info: (758, 9)\n",
      "758 observations\n",
      "9 variables\n",
      "\n",
      "\n",
      "Dataset Metadata Info:\n",
      "\n",
      "<class 'pandas.core.frame.DataFrame'>\n",
      "Int64Index: 758 entries, 0 to 767\n",
      "Data columns (total 9 columns):\n",
      " #   Column                    Non-Null Count  Dtype  \n",
      "---  ------                    --------------  -----  \n",
      " 0   Pregnancies               758 non-null    int64  \n",
      " 1   Glucose                   758 non-null    int64  \n",
      " 2   BloodPressure             758 non-null    int64  \n",
      " 3   SkinThickness             758 non-null    int64  \n",
      " 4   Insulin                   758 non-null    int64  \n",
      " 5   BMI                       758 non-null    float64\n",
      " 6   DiabetesPedigreeFunction  758 non-null    float64\n",
      " 7   Age                       758 non-null    int64  \n",
      " 8   Outcome                   758 non-null    int64  \n",
      "dtypes: float64(2), int64(7)\n",
      "memory usage: 59.2 KB\n",
      "\n",
      "Dataset column list:\n",
      "Pregnancies, Glucose, BloodPressure, SkinThickness, Insulin, BMI, DiabetesPedigreeFunction, Age, Outcome, \n",
      "Dataset index info:\n",
      "Int64Index([  0,   1,   2,   3,   4,   5,   6,   7,   8,   9,\n",
      "            ...\n",
      "            758, 759, 760, 761, 762, 763, 764, 765, 766, 767], dtype='int64', length=758)\n",
      "\n",
      "Descriptive Statistics\n",
      "\n",
      "                           count    mean     std    min    25%     50%     75%     max\n",
      "Pregnancies              758.000   3.855   3.377  0.000  1.000   3.000   6.000  17.000\n",
      "Glucose                  758.000 121.417  30.273 44.000 99.000 117.000 140.000 199.000\n",
      "BloodPressure            758.000  69.049  19.364  0.000 62.000  72.000  80.000 114.000\n",
      "SkinThickness            758.000  20.356  15.730  0.000  0.000  23.000  32.000  63.000\n",
      "Insulin                  758.000  78.645 109.735  0.000  0.000  36.000 127.750 680.000\n",
      "BMI                      758.000  32.000   7.906  0.000 27.300  32.000  36.575  67.100\n",
      "DiabetesPedigreeFunction 758.000   0.470   0.326  0.078  0.243   0.370   0.627   2.420\n",
      "Age                      758.000  33.148  11.595 21.000 24.000  29.000  40.750  72.000\n",
      "Outcome                  758.000   0.348   0.477  0.000  0.000   0.000   1.000   1.000\n",
      "\n",
      "Are there any null values in the data set?: False\n"
     ]
    }
   ],
   "source": [
    "eda.big_picture_summary()"
   ]
  },
  {
   "cell_type": "code",
   "execution_count": null,
   "metadata": {},
   "outputs": [],
   "source": []
  }
 ],
 "metadata": {
  "kernelspec": {
   "display_name": "Python 3",
   "language": "python",
   "name": "python3"
  },
  "language_info": {
   "codemirror_mode": {
    "name": "ipython",
    "version": 3
   },
   "file_extension": ".py",
   "mimetype": "text/x-python",
   "name": "python",
   "nbconvert_exporter": "python",
   "pygments_lexer": "ipython3",
   "version": "3.8.5"
  }
 },
 "nbformat": 4,
 "nbformat_minor": 4
}
